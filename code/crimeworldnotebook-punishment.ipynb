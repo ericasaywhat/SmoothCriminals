{
 "cells": [
  {
   "cell_type": "markdown",
   "metadata": {},
   "source": [
    "# Smooth criminals: agent-based modeling of street crime"
   ]
  },
  {
   "cell_type": "code",
   "execution_count": 65,
   "metadata": {
    "collapsed": true
   },
   "outputs": [],
   "source": [
    "from __future__ import print_function, division\n",
    "\n",
    "import random\n",
    "import thinkplot\n",
    "import numpy as np\n",
    "from Cell2D import Cell2D, Cell2DViewer\n",
    "from thinkstats2 import Cdf\n",
    "from thinkstats2 import RandomSeed\n",
    "import matplotlib.pyplot as plt\n",
    "from matplotlib import rc\n",
    "rc('animation', html='html5')"
   ]
  },
  {
   "cell_type": "markdown",
   "metadata": {},
   "source": [
    "In `crimeworldnotebook-original.ipynb`, we replicated Groff's model and created `Citizen` agents and `CrimeWorld` (and its viewer, `CrimeWorldViewer`). In this notebook, we will extend this model to find out the effects of deterrent in the form of punishment for committing crimes. The point of introducing punishment to criminals is to lower the rate of crime. We will find out if this is the case and investigate the possibility of an optimization condition.\n",
    "\n",
    "Two significant factors contribute to a criminal's motivation for committing crimes, which are necessity (how poor a criminal is) and confidence (how successful a criminal is). Only one factor, however, lowers a criminal's motivation, which is being punished. Depending on the degree of punishment, a criminal might either be more motivated to commit a crime (after losing too much wealth) or less motivated (after losing only some wealth)."
   ]
  },
  {
   "cell_type": "code",
   "execution_count": 66,
   "metadata": {
    "collapsed": false
   },
   "outputs": [],
   "source": [
    "class Citizen():\n",
    "    \"\"\"\n",
    "    Represents a citizen in CrimeWorld.\n",
    "    \"\"\"\n",
    "    def __init__(self, loc, home, wealth, income, time_from_home):\n",
    "        self.loc = loc\n",
    "        self.home = home\n",
    "        self.wealth = wealth\n",
    "        self.income = income\n",
    "        self.time_from_home = 24*time_from_home\n",
    "        \n",
    "        self.motivation = random.randint(1,11)\n",
    "        self.isPopo = False\n",
    "        self.timeAway = 0\n",
    "        self.isHome = False\n",
    "        self.timeAtHome = 0 \n",
    "        self.timesCaught = 0\n",
    "        self.timesSuccessful = 0\n",
    "\n",
    "    def step(self, n, cost_of_living):\n",
    "        self.wealth += self.income # Get paid! (Income)\n",
    "        self.wealth -= cost_of_living # Live a little! (Living expenses)\n",
    "        \n",
    "        if (self.wealth <= 0 and self.wealth > -5):\n",
    "            self.motivation = self.calcMotivation() + 1\n",
    "        elif (self.wealth <= -5):\n",
    "            self.motivation = self.calcMotivation() + 2\n",
    "        \n",
    "        if (self.isHome):\n",
    "            if (self.timeAtHome >= 24 - self.time_from_home):\n",
    "                if (random.randint(0, 5) <= 2):\n",
    "                    self.isHome = False # Leave home\n",
    "                    self.timeAtHome = 0\n",
    "                else:\n",
    "                    self.timeAtHome += 1\n",
    "            else:\n",
    "                self.timeAtHome += 1\n",
    "        else:\n",
    "            if (self.timeAway >= self.time_from_home):\n",
    "                self.isHome = True # Return home\n",
    "                self.timeAway = 0\n",
    "                self.loc = self.home\n",
    "            else:\n",
    "                self.timeAway += 1\n",
    "                directions = [[0,5], [0,-5], [5,0], [-5,0]]\n",
    "                index = np.random.randint(4)\n",
    "                new_loc = np.add(self.loc, directions[index])\n",
    "                while (new_loc[0] < 0 or new_loc[1] < 0 or\n",
    "                      new_loc[0] >= n or new_loc[1] >= n):\n",
    "                    index = np.random.randint(4)\n",
    "                    new_loc = np.add(self.loc, directions[index])\n",
    "                self.loc = new_loc\n",
    "                if (self.timeAway % 5 == 0):\n",
    "                    self.motivation += 1\n",
    "\n",
    "    def getRobbed(self):\n",
    "        self.wealth -= 6\n",
    "\n",
    "    def rob(self):\n",
    "        self.wealth += 6\n",
    "        self.timesSuccessful += 1\n",
    "\n",
    "    def decideToOffend(self, agents):\n",
    "        if (self.motivation >= 10):\n",
    "            return True\n",
    "        \n",
    "        capability = random.randint(-2, 2)\n",
    "        G = len(agents) - 2 + capability\n",
    "        if G > 1:\n",
    "            return False\n",
    "        elif G == 1:\n",
    "            if self.motivation >= 8:\n",
    "                return True\n",
    "            p = random.choice([True, False])\n",
    "            return p\n",
    "        return True\n",
    "  \n",
    "    def setHome(self, state):\n",
    "        self.isHome = state\n",
    "    \n",
    "    def setPopo(self, state):\n",
    "        self.isPopo = state    \n",
    "\n",
    "    def pickChump(self, agents):\n",
    "        if (agents != []):\n",
    "            return max(agents, key= lambda x: x.wealth)\n",
    "    \n",
    "    def getPunished(self, factor):\n",
    "        self.wealth -= factor # * self.wealth\n",
    "        if (self.timesSuccessful > self.timesCaught):\n",
    "            self.motivation -= 1\n",
    "        else:\n",
    "            self.motivation = self.calcMotivation()\n",
    "        \n",
    "    def calcMotivation(self):\n",
    "        self.motivation -= ((self.timesCaught - self.timesSuccessful) * self.motivation)/(self.timesSuccessful + 1)\n",
    "        return self.motivation"
   ]
  },
  {
   "cell_type": "markdown",
   "metadata": {},
   "source": [
    "Now, we need to create the world that all these citizens live in. `CrimeWorld` is based on `Cell2D` and LA's real-world properties. In `CrimeWorld`, we keep track of the locations of all citizens and crimes in an array, where each cell represents the location of a street intersection."
   ]
  },
  {
   "cell_type": "code",
   "execution_count": 67,
   "metadata": {
    "collapsed": false
   },
   "outputs": [],
   "source": [
    "class CrimeWorld(Cell2D):\n",
    "    \"\"\"\n",
    "    Represents the world in which our simulation takes place.\n",
    "    \"\"\"\n",
    "\n",
    "    def __init__(self, n, **params):\n",
    "        \"\"\"\n",
    "        Initializes the attributes.\n",
    "  \n",
    "        n: number of rows and columns\n",
    "        params: dictionary of parameters\n",
    "            -num_citizens\n",
    "            -num_police\n",
    "            -prop_criminals\n",
    "        \"\"\"\n",
    "        self.params = params\n",
    "        self.array = np.zeros(shape=(n,n))\n",
    "        self.make_agents(n)\n",
    "        self.n = n\n",
    "        self.agent_count_seq = [] # track variables\n",
    "        self.total_robs = 0\n",
    "        self.rob_count_seq = []\n",
    "        self.total_wealth = 0\n",
    "  \n",
    "    def make_locs(self, n, m):\n",
    "        \"\"\"\n",
    "        Makes array where each row is an index in an `n` by `m` grid.\n",
    "    \n",
    "        n: int number of rows\n",
    "        m: int number of cols\n",
    "    \n",
    "        returns: NumPy array\n",
    "        \"\"\"\n",
    "        left = np.repeat(np.arange(m), n)\n",
    "        right = np.tile(np.arange(n), m)\n",
    "        return np.transpose([left, right])\n",
    "\n",
    "    def make_agents(self, n):\n",
    "        \"\"\"\n",
    "        Makes the agents.\n",
    "        Each Citizen starts out with a different wealth and a different income in order to generate inequality.\n",
    "        Their incomes are set, where each is on a scale from 0 (unemployed) to 18 (high pay).\n",
    "        This is based on Seattle's average income per hour.\n",
    "        \"\"\"\n",
    "  \n",
    "        # determine where the agents start and generate locations\n",
    "        locs = self.make_locs(n, n)\n",
    "        np.random.shuffle(locs)\n",
    "                \n",
    "        # make the agents\n",
    "        num_citizens = self.params.get('num_citizens', 1000)\n",
    "        num_police = self.params.get('num_police', 200)\n",
    "        time_from_home = self.params.get('time_from_home', 0.3)\n",
    "        self.citizens = [Citizen(locs[i], locs[i], random.randint(0, 50), random.randint(0, 18), time_from_home = random.randint(3, 7)/10)\n",
    "                            for i in np.random.choice(range(len(locs)), num_citizens)]\n",
    "        for citizen in random.sample(self.citizens, num_police):\n",
    "            citizen.setPopo(True)  # set police\n",
    "  \n",
    "    def step(self):\n",
    "        num_citizens = float(self.params.get('num_citizens', 1000))\n",
    "        prop_criminals = self.params.get('prop_criminals', 0.2)\n",
    "        punishment_factor = self.params.get('punishment_factor', 0.7)\n",
    "        for citizen in self.citizens:\n",
    "            citizen.step(self.n, random.randint(4, 8))\n",
    "            \n",
    "        potential_criminals = random.sample(self.citizens, int(prop_criminals * num_citizens)) # Not everyone's a criminal\n",
    "        for potential_criminal in potential_criminals:\n",
    "            hasPopo = False\n",
    "            citizens_in_node = []\n",
    "            for x in self.citizens:\n",
    "                if np.array_equal(x.loc,potential_criminal.loc) and not x.isHome:\n",
    "                    citizens_in_node.append(x)\n",
    "                    if x.isPopo:\n",
    "                        hasPopo = True\n",
    "\n",
    "            if not potential_criminal.isHome and potential_criminal.decideToOffend(citizens_in_node):\n",
    "                if hasPopo:\n",
    "                    potential_criminal.getPunished(punishment_factor)\n",
    "                else:\n",
    "                    target = potential_criminal.pickChump(citizens_in_node)\n",
    "                    if (target != None and not target.isHome):\n",
    "                        potential_criminal.rob()\n",
    "                        target.getRobbed()\n",
    "                        self.array[target.loc[0]][target.loc[1]] += 1\n",
    "                        self.total_robs += 1\n",
    "                        \n",
    "                        if potential_criminal.timesSuccessful <= potential_criminal.timesCaught:\n",
    "                            potential_criminal.motivation += 1\n",
    "                        else:\n",
    "                            potential_criminal.motivation = potential_criminal.calcMotivation()\n",
    "    \n",
    "        self.rob_count_seq.append(self.total_robs)"
   ]
  },
  {
   "cell_type": "markdown",
   "metadata": {},
   "source": [
    "We can view the results of our simulation using the `CrimeWorldViewer` below."
   ]
  },
  {
   "cell_type": "code",
   "execution_count": 68,
   "metadata": {
    "collapsed": true
   },
   "outputs": [],
   "source": [
    "class CrimeWorldViewer(Cell2DViewer):\n",
    "    \"\"\"Generates visualization and animation of CrimeWorld.\n",
    "    Based on code from Think Complexity by Allen Downey.\"\"\"\n",
    "\n",
    "    cmap = plt.get_cmap('Greens')\n",
    "\n",
    "    options = dict(interpolation='none', alpha=0.8,\n",
    "                   vmin=0, vmax=7)\n",
    "\n",
    "    def draw(self, grid=False):\n",
    "        #TODO: draw robberies\n",
    "        \"\"\"Draws the array and any other elements.\n",
    "\n",
    "        grid: boolean, whether to draw grid lines\n",
    "        \"\"\"\n",
    "        self.draw_array(self.viewee.array, origin='lower')\n",
    "        self.draw_agents()\n",
    "\n",
    "    def draw_agents(self):\n",
    "        \"\"\"Plots the agents.\n",
    "        \"\"\"\n",
    "        self.points = plt.plot(0,0,'.', color='red')[0]\n",
    "        plt.show()\n",
    "\n",
    "    def animate_func(self, i):\n",
    "        \"\"\"Draws one frame of the animation.\"\"\"\n",
    "        Cell2DViewer.animate_func(self, i)\n",
    "        xs, ys = self.get_coords()\n",
    "        self.points.set_data(np.array([xs, ys]))\n",
    "        return self.im, self.points\n",
    "\n",
    "    def get_coords(self):\n",
    "        \"\"\"Gets the coordinates of the agents.\n",
    "\n",
    "        Transforms from (row, col) to (x, y).\n",
    "\n",
    "        returns: tuple of sequences, (xs, ys)\n",
    "        \"\"\"\n",
    "        agents = self.viewee.citizens\n",
    "        new_array = np.zeros((1,2))\n",
    "        rows, cols = np.transpose([new_array for agent in agents])\n",
    "        xs = cols + 0.5\n",
    "        ys = rows + 0.5\n",
    "        return xs, ys"
   ]
  },
  {
   "cell_type": "code",
   "execution_count": 72,
   "metadata": {
    "collapsed": false,
    "scrolled": true
   },
   "outputs": [
    {
     "name": "stdout",
     "output_type": "stream",
     "text": [
      "8080\n",
      "8175\n",
      "8232\n",
      "8170\n",
      "8192\n",
      "8162\n",
      "8147\n",
      "8226\n",
      "7959\n",
      "8245\n"
     ]
    }
   ],
   "source": [
    "RandomSeed(100)\n",
    "results = []\n",
    "f_ar = range(0, 100, 10)\n",
    "for f in f_ar:\n",
    "    env = CrimeWorld(127, num_citizens=1000, prop_criminals=0.2, num_police=200, punishment_factor=f, time_from_home = 0.3)\n",
    "    for i in range(100):\n",
    "        env.step()\n",
    "\n",
    "    print(env.total_robs)\n",
    "    results.append(env.total_robs)"
   ]
  },
  {
   "cell_type": "code",
   "execution_count": 73,
   "metadata": {
    "collapsed": false
   },
   "outputs": [
    {
     "data": {
      "image/png": "[encoded data removed]",
      "text/plain": [
       "<matplotlib.figure.Figure at 0x7f93ebaf9c88>"
      ]
     },
     "metadata": {},
     "output_type": "display_data"
    }
   ],
   "source": [
    "plt.plot(f_ar, results)\n",
    "plt.xlabel('Punishment Value')\n",
    "plt.ylabel('Number of Robberies')\n",
    "\n",
    "plt.savefig(\"punishment_values.png\")\n",
    "plt.show()"
   ]
  },
  {
   "cell_type": "code",
   "execution_count": 85,
   "metadata": {
    "collapsed": true
   },
   "outputs": [],
   "source": [
    "class RobinHood(Citizen):\n",
    "    \"\"\"\n",
    "    Defines a citizen who loses a percentage of their wealth every time they are caught.\n",
    "    (This is a behavior opposed to having a fixed amount of their wealth removed.)\n",
    "    \"\"\"\n",
    "    \n",
    "    def __init__(self, loc, home, wealth, income, time_from_home):\n",
    "        Citizen.__init__(self, loc, home, wealth, income, time_from_home)\n",
    "    \n",
    "    def getPunished(self, factor):\n",
    "        self.wealth -= factor * self.wealth\n",
    "        if (self.timesSuccessful > self.timesCaught):\n",
    "            self.motivation -= 1\n",
    "        else:\n",
    "            self.motivation = self.calcMotivation()"
   ]
  },
  {
   "cell_type": "code",
   "execution_count": 86,
   "metadata": {
    "collapsed": true
   },
   "outputs": [],
   "source": [
    "class SherwoodForest(CrimeWorld):\n",
    "    def __init__(self, n, **params):\n",
    "        self.params = params\n",
    "        CrimeWorld.__init__(self, n, **params)\n",
    "        \n",
    "    def make_agents(self, n):\n",
    "        \"\"\"\n",
    "        Makes the agents.\n",
    "        Each Citizen starts out with a different wealth and a different income in order to generate inequality.\n",
    "        Their incomes are set, where each is on a scale from 0 (unemployed) to 18 (high pay).\n",
    "        This is based on Seattle's average income per hour.\n",
    "        \"\"\"\n",
    "  \n",
    "        # determine where the agents start and generate locations\n",
    "        locs = self.make_locs(n, n)\n",
    "        np.random.shuffle(locs)\n",
    "                \n",
    "        # make the agents\n",
    "        num_citizens = self.params.get('num_citizens', 1000)\n",
    "        num_police = self.params.get('num_police', 200)\n",
    "        time_from_home = self.params.get('time_from_home', 0.3)\n",
    "        self.citizens = [RobinHood(locs[i], locs[i], random.randint(0, 50), random.randint(0, 18), time_from_home = random.randint(3, 7)/10)\n",
    "                            for i in np.random.choice(range(len(locs)), num_citizens)]\n",
    "        for citizen in random.sample(self.citizens, num_police):\n",
    "            citizen.setPopo(True)  # set police"
   ]
  },
  {
   "cell_type": "code",
   "execution_count": 87,
   "metadata": {
    "collapsed": false
   },
   "outputs": [
    {
     "name": "stdout",
     "output_type": "stream",
     "text": [
      "8080\n",
      "8184\n",
      "8129\n",
      "8161\n",
      "8202\n",
      "8109\n",
      "8160\n",
      "8242\n",
      "8150\n",
      "8298\n"
     ]
    }
   ],
   "source": [
    "RandomSeed(100)\n",
    "results = []\n",
    "f_ar = range(0, 10, 1)\n",
    "for f in f_ar:\n",
    "    env = SherwoodForest(127, num_citizens=1000, prop_criminals=0.2, num_police=200, punishment_factor=f/10, time_from_home = 0.3)\n",
    "    for i in range(100):\n",
    "        env.step()\n",
    "\n",
    "    print(env.total_robs)\n",
    "    results.append(env.total_robs)"
   ]
  },
  {
   "cell_type": "code",
   "execution_count": 88,
   "metadata": {
    "collapsed": false
   },
   "outputs": [
    {
     "data": {
      "image/png": "[encoded data removed]",
      "text/plain": [
       "<matplotlib.figure.Figure at 0x7f93eb8edc50>"
      ]
     },
     "metadata": {},
     "output_type": "display_data"
    }
   ],
   "source": [
    "plt.plot(np.divide(f_ar, 10), results)\n",
    "plt.xlabel('Punishment Ratio')\n",
    "plt.ylabel('Number of Robberies')\n",
    "\n",
    "plt.savefig(\"punishment_ratio1.png\")\n",
    "plt.show()"
   ]
  },
  {
   "cell_type": "code",
   "execution_count": null,
   "metadata": {
    "collapsed": true
   },
   "outputs": [],
   "source": []
  }
 ],
 "metadata": {
  "anaconda-cloud": {},
  "kernelspec": {
   "display_name": "Python [default]",
   "language": "python",
   "name": "python3"
  },
  "language_info": {
   "codemirror_mode": {
    "name": "ipython",
    "version": 3
   },
   "file_extension": ".py",
   "mimetype": "text/x-python",
   "name": "python",
   "nbconvert_exporter": "python",
   "pygments_lexer": "ipython3",
   "version": "3.5.2"
  }
 },
 "nbformat": 4,
 "nbformat_minor": 1
}
