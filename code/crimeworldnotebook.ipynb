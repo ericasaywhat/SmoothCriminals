{
 "cells": [
  {
   "cell_type": "markdown",
   "metadata": {},
   "source": [
    "# Routine Activity Theory and Street Crime"
   ]
  },
  {
   "cell_type": "markdown",
   "metadata": {},
   "source": [
    "The idea behind routine activity theory (RAT) is that if the frequency of convergence between offenders, guardians, and targets increases, crime rates may increase even if the absolute number of motivated offenders remains constant. In other words, as individuals spend more time away from home, crime rates increase. We'll explore RAT by simulating many `Citizens` inside of a `CrimeWorld`."
   ]
  },
  {
   "cell_type": "code",
   "execution_count": 333,
   "metadata": {
    "collapsed": true
   },
   "outputs": [],
   "source": [
    "from __future__ import print_function, division\n",
    "\n",
    "import random\n",
    "import thinkplot\n",
    "import numpy as np\n",
    "from Cell2D import Cell2D, Cell2DViewer\n",
    "from thinkstats2 import Cdf\n",
    "from thinkstats2 import RandomSeed\n",
    "import matplotlib.pyplot as plt\n",
    "from matplotlib import rc\n",
    "rc('animation', html='html5')"
   ]
  },
  {
   "cell_type": "markdown",
   "metadata": {},
   "source": [
    "In our simulated world, `CrimeWorld`, there are two types of agents: police officers and regular citizens. Regular citizens can have a variety of roles: some are offenders (agents who commit crimes), some are guardians (agents who prevent crimes), and some are targets (agents against whom crimes are committed).\n",
    "\n",
    "The `Citizen` class represents every type of citizen, including police officers. For the purposes of the simulation, the `Citizen` class contains properties of all types of agents. More specifically, police officers are just citizens with the `isPopo` boolean set to `true`; offenders are just citizens who use the `decideToOffend`, `pickChump`, and `rob` functions; and targets are just citizens who use the `getRobbed` function.\n",
    "\n",
    "A variety of factors affect an offender's decision to commit a crime. Consider a bunch of agents at a single node; some might be police, some might be guardians, and some might be offenders trying to find a guardian to make into a target. The first factor the offenders must consider is whether there are police at the node. The presence of a police officer is an absolute dealbreaker; no offender will commit a crime if they know someone is nearby who can catch them and stick them in jail for it.\n",
    "\n",
    "If there are no police officers, however, the second factor the offenders must consider is the guardianship of other agents present; we'll call this variable `G`.\n",
    "\n",
    "`G = (N`<sub>agents</sub>` - 2) + P`\n",
    "\n",
    "`G` depends on two other variables. `N`<sub>agents</sub> is the total number of agents present at a given node, and we subtract 2 to account for the offender and their potential target. `P` is a randomly selected number between -2 and 2 that represents the offender's perception of the capability of the guardians who are present.\n",
    "\n",
    "If `G < 1`, the offender determines that there are not capable guardians present, so they should commit the crime.\n",
    "\n",
    "If `G == 1`, the offender isn't sure if there are capable guardians present, so they make a random decision to commit the crime.\n",
    "\n",
    "And finally, if `G > 1`, the offender determines that there are capable guardians present and they should not commit the crime.\n",
    "\n",
    "Now, let's assume `G <= 1` and the offender has decided to commit the crime. Which agent should the offender offend? The offender must consider the suitability of the potential targets in the node, a variable we'll call `S`.\n",
    "\n",
    "`S = (W`<sub>target</sub>` - W`<sub>offender</sub>`) + P`\n",
    "\n",
    "`S` depends on several other variables. `W`<sub>target</sub> is the wealth of the potential target and `W`<sub>offender</sub> is the wealth of the offender. And like our equation for `G`, `P` represents a randomly selected number, this time between -1 and 1, which represents the offender's perception of the wealth of the target.\n",
    "\n",
    "If `S >= 0`, the offender determines that the target is suitably wealthy and robs them.\n",
    "\n",
    "If `S < 0`, the offender determines that the target is not suitably wealthy, so they move on to the next potential target in the node.\n",
    "\n",
    "We define the equations for finding `G` and `S` as `decideToOffend` and `pickChump`, respectively."
   ]
  },
  {
   "cell_type": "code",
   "execution_count": 334,
   "metadata": {},
   "outputs": [],
   "source": [
    "class Citizen():\n",
    "    \"\"\"\n",
    "    Represents a citizen in CrimeWorld.\n",
    "    \"\"\"\n",
    "  \n",
    "    def __init__(self, loc, wealth, **params):\n",
    "        self.wealth = wealth\n",
    "        self.motivation = random.randint(0,10)\n",
    "        self.loc = loc\n",
    "        self.isPopo = False\n",
    "        self.timeAway = 0\n",
    "        self.isHome = False\n",
    "\n",
    "    def step(self):\n",
    "        self.wealth += 5\n",
    "        self.timeAway += 1\n",
    "        directions = [[0,5], [0,-5], [5,0], [-5,0]]\n",
    "        #TODO: don't flee seattle\n",
    "        index = np.random.randint(4)\n",
    "        self.loc = np.add(self.loc, directions[index])\n",
    "        \n",
    "        if (self.timeAway % 5 == 0):#motivation is currently not in use\n",
    "            self.motivation += 1\n",
    "        \n",
    "\n",
    "    def getRobbed(self):\n",
    "        self.wealth -= 1\n",
    "\n",
    "    def rob(self):\n",
    "        self.wealth += 1\n",
    "\n",
    "    def decideToOffend(self, agents):\n",
    "        for agent in agents:\n",
    "            if agent.isPopo:\n",
    "                return False\n",
    "        return True\n",
    "  \n",
    "    def setHome(self, state):\n",
    "        self.isHome = state\n",
    "\n",
    "        capability = random.randint(-2, 2)\n",
    "        G = len(agents) - 2 + capability\n",
    "\n",
    "        if G > 1:\n",
    "            return False\n",
    "        elif G == 1:\n",
    "            p = random.choice([True, False])\n",
    "            return p\n",
    "\n",
    "        return True\n",
    "    \n",
    "    def setPopo(self, state):\n",
    "        self.isPopo = state    \n",
    "\n",
    "    def pickChump(self, agents):\n",
    "        return max(agents, key= lambda x: x.wealth)"
   ]
  },
  {
   "cell_type": "markdown",
   "metadata": {},
   "source": [
    "Now, we need to create the world that all these citizens live in. `CrimeWorld` is based on `Cell2D` and LA's real-world properties. In `CrimeWorld`, we keep track of the locations of all citizens and crimes in an array, where each cell represents the location of a street intersection."
   ]
  },
  {
   "cell_type": "code",
   "execution_count": 335,
   "metadata": {
    "collapsed": true
   },
   "outputs": [],
   "source": [
    "class CrimeWorld(Cell2D):\n",
    "    \"\"\"\n",
    "    Represents the world in which our simulation takes place.\n",
    "    LA:\n",
    "    60627 street intersections\n",
    "    Seattle:\n",
    "        16035 nodes\n",
    "        1000 civilians\n",
    "        200 police\n",
    "        20% of civilians are ready to commit a crime\n",
    "    \"\"\"\n",
    "\n",
    "    def __init__(self, n, **params):\n",
    "        \"\"\"\n",
    "        Initializes the attributes.\n",
    "  \n",
    "        n: number of rows and columns\n",
    "        params: dictionary of parameters\n",
    "            -num_citizens\n",
    "            -num_police\n",
    "            -prop_criminals\n",
    "        \"\"\"\n",
    "        self.params = params\n",
    "        self.array = np.zeros((n, n), np.float)\n",
    "        self.make_agents(n)\n",
    "        self.n = n\n",
    "        self.agent_count_seq = [] # track variables\n",
    "        self.total_robs = 0\n",
    "        self.rob_count_seq = [] \n",
    "  \n",
    "    def make_locs(self, n, m):\n",
    "        \"\"\"\n",
    "        Makes array where each row is an index in an `n` by `m` grid.\n",
    "    \n",
    "        n: int number of rows\n",
    "        m: int number of cols\n",
    "    \n",
    "        returns: NumPy array\n",
    "        \"\"\"\n",
    "        left = np.repeat(np.arange(m), n)\n",
    "        right = np.tile(np.arange(n), m)\n",
    "        return np.transpose([left, right])\n",
    "\n",
    "    def make_agents(self, n):\n",
    "        \"\"\"Makes the agents.\"\"\"\n",
    "  \n",
    "        # determine where the agents start and generate locations\n",
    "        # n, m = self.params.get('starting_box', self.array.shape)\n",
    "        locs = self.make_locs(n, n)\n",
    "        np.random.shuffle(locs)\n",
    "  \n",
    "        # make the agents\n",
    "        num_citizens = self.params.get('num_citizens', 1000)\n",
    "        num_police = self.params.get('num_police', 200)\n",
    "        self.citizens = [Citizen(locs[i], 5) #everyone starts out with wealth of 5\n",
    "                            for i in np.random.choice(range(len(locs)), num_citizens)]\n",
    "#         for citizen in self.citizens:\n",
    "#             self.array[citizen.loc] += 1\n",
    "        for citizen in random.sample(self.citizens, num_police):\n",
    "            citizen.setPopo(True)  # set police\n",
    "        # self.occupied = set(citizen.loc for citizen in self.citizens) # keep track of occupied cells\n",
    "  \n",
    "    def step(self):\n",
    "        num_citizens = float(self.params.get('num_citizens', 1000))\n",
    "        prop_criminals = self.params.get('prop_criminals', 0.2)\n",
    "        for citizen in self.citizens:\n",
    "            citizen.step()    \n",
    "        for potential_criminal in random.sample(self.citizens, int(prop_criminals * num_citizens)):\n",
    "            citizens_in_node = [x for x in self.citizens if np.array_equal(x.loc,potential_criminal.loc)]\n",
    "            if potential_criminal.decideToOffend(citizens_in_node):\n",
    "                target = potential_criminal.pickChump(citizens_in_node)\n",
    "                potential_criminal.rob()\n",
    "                target.getRobbed()\n",
    "#                 self.array[target.loc] += 1\n",
    "                self.total_robs += 1\n",
    "    \n",
    "        self.rob_count_seq.append(self.total_robs)"
   ]
  },
  {
   "cell_type": "markdown",
   "metadata": {},
   "source": [
    "We can view the results of our simulation using the `CrimeWorldViewer` below."
   ]
  },
  {
   "cell_type": "code",
   "execution_count": 336,
   "metadata": {},
   "outputs": [],
   "source": [
    "class CrimeWorldViewer(Cell2DViewer):\n",
    "    \"\"\"Generates visualization and animation of Sugarscape.\"\"\"\n",
    "\n",
    "    cmap = plt.get_cmap('viridis_r')\n",
    "\n",
    "    options = dict(interpolation='none', alpha=0.8,\n",
    "                   vmin=0, vmax=9)\n",
    "\n",
    "    def draw(self, grid=False):\n",
    "        #TODO: draw robberies\n",
    "        \"\"\"Draws the array and any other elements.\n",
    "\n",
    "        grid: boolean, whether to draw grid lines\n",
    "        \"\"\"\n",
    "        self.draw_array(self.viewee.array, origin='lower')\n",
    "        self.draw_agents()\n",
    "\n",
    "    def draw_agents(self):\n",
    "        \"\"\"Plots the agents.\n",
    "        \"\"\"\n",
    "        xs, ys = self.get_coords()\n",
    "        self.points = plt.plot(xs, ys, '.', color='red')[0]\n",
    "        plt.show()\n",
    "\n",
    "    def animate_func(self, i):\n",
    "        \"\"\"Draws one frame of the animation.\"\"\"\n",
    "        Cell2DViewer.animate_func(self, i)\n",
    "        xs, ys = self.get_coords()\n",
    "        self.points.set_data(np.array([xs, ys]))\n",
    "        return self.im, self.points\n",
    "\n",
    "    def get_coords(self):\n",
    "        \"\"\"Gets the coordinates of the agents.\n",
    "\n",
    "        Transforms from (row, col) to (x, y).\n",
    "\n",
    "        returns: tuple of sequences, (xs, ys)\n",
    "        \"\"\"\n",
    "        agents = self.viewee.citizens\n",
    "        rows, cols = np.transpose([agent.loc for agent in agents])\n",
    "        xs = cols + 0.5\n",
    "        ys = rows + 0.5\n",
    "        return xs, ys"
   ]
  },
  {
   "cell_type": "code",
   "execution_count": 19,
   "metadata": {
    "scrolled": true
   },
   "outputs": [
    {
     "data": {
      "image/png": "[encoded data removed]",
      "text/plain": [
       "<matplotlib.figure.Figure at 0x7fca3def5a58>"
      ]
     },
     "metadata": {},
     "output_type": "display_data"
    }
   ],
   "source": [
    "RandomSeed(17)\n",
    "env = CrimeWorld(127, num_citizens=100, prop_criminals=0.2, num_police=15)\n",
    "viewer = CrimeWorldViewer(env)\n",
    "viewer.draw()\n"
   ]
  },
  {
   "cell_type": "code",
   "execution_count": 24,
   "metadata": {
    "collapsed": false,
    "scrolled": false
   },
   "outputs": [],
   "source": [
    "# anim = viewer.animate(frames=500)\n",
    "# anim\n",
    "thinkplot.plot(env.rob_count_seq)"
   ]
  },
  {
   "cell_type": "code",
   "execution_count": 339,
   "metadata": {},
   "outputs": [
    {
     "name": "stdout",
     "output_type": "stream",
     "text": [
      "[18, 35, 52, 71, 89, 108, 125, 142, 160, 179, 198, 217, 233, 252, 270, 286, 306, 324, 344, 358, 377, 393, 410, 427, 445, 464, 480, 497, 515, 532, 550, 566, 581, 600, 617, 636, 653, 672, 691, 710, 729, 744, 759, 778, 795, 812, 829, 848, 865, 882, 901, 918, 933, 949, 967, 986, 1004, 1022, 1037, 1055, 1074, 1093, 1111, 1126, 1144, 1164, 1182, 1198, 1215, 1228, 1243, 1258, 1276, 1294, 1309, 1325, 1339, 1358, 1373, 1390, 1406, 1420, 1437, 1453, 1471, 1489, 1505, 1522, 1538, 1556, 1571, 1585, 1603, 1619, 1637, 1656, 1674, 1690, 1707, 1723, 1739, 1755, 1774, 1791, 1804, 1822, 1840, 1858, 1877, 1897, 1914, 1928, 1944, 1964, 1977, 1992, 2008, 2024, 2043, 2060, 2075, 2090, 2107, 2125, 2145, 2161, 2177, 2194, 2212, 2231, 2249, 2266, 2283, 2302, 2318, 2334, 2350, 2367, 2385, 2402, 2417, 2432, 2450, 2468, 2485, 2500, 2517, 2536, 2554, 2573, 2589, 2607, 2623, 2641, 2658, 2676, 2694, 2711, 2727, 2743, 2762, 2778, 2797, 2814, 2831, 2849, 2866, 2885, 2902, 2919, 2938, 2955, 2972, 2988, 3006, 3024, 3041, 3058, 3075, 3091, 3109, 3127, 3146, 3160, 3178, 3196, 3213, 3227, 3244, 3264, 3280, 3295, 3310, 3327, 3345, 3364, 3381, 3399, 3415, 3432]\n"
     ]
    },
    {
     "data": {
      "image/png": "[encoded data removed]",
      "text/plain": [
       "<matplotlib.figure.Figure at 0x7fca3dfa6160>"
      ]
     },
     "metadata": {},
     "output_type": "display_data"
    }
   ],
   "source": [
    "for i in range(200):\n",
    "    env.step()\n",
    "\n",
    "thinkplot.plot(env.rob_count_seq, style='.')\n",
    "plt.show()"
   ]
  },
  {
   "cell_type": "code",
   "execution_count": null,
   "metadata": {
    "collapsed": true
   },
   "outputs": [],
   "source": []
  }
 ],
 "metadata": {
  "anaconda-cloud": {},
  "kernelspec": {
   "display_name": "Python 3",
   "language": "python",
   "name": "python3"
  },
  "language_info": {
   "codemirror_mode": {
    "name": "ipython",
    "version": 3
   },
   "file_extension": ".py",
   "mimetype": "text/x-python",
   "name": "python",
   "nbconvert_exporter": "python",
   "pygments_lexer": "ipython3",
   "version": "3.6.2"
  }
 },
 "nbformat": 4,
 "nbformat_minor": 1
}
