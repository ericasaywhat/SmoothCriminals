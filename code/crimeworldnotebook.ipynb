{
 "cells": [
  {
   "cell_type": "markdown",
   "metadata": {},
   "source": [
    "# Routine Activity Theory and Street Crime"
   ]
  },
  {
   "cell_type": "code",
   "execution_count": 2,
   "metadata": {
    "collapsed": true
   },
   "outputs": [],
   "source": [
    "import random\n",
    "import numpy as np"
   ]
  },
  {
   "cell_type": "markdown",
   "metadata": {},
   "source": [
    "In our simulated world, `CrimeWorld`, there are two types of agents: police officers and regular citizens. Regular citizens can have a variety of roles: some are offenders (agents who commit crimes), some are guardians (agents who prevent crimes), and some are targets (agents against whom crimes are committed). All citizens (including police), however, share a set of properties, as defined in the `Citizen` class."
   ]
  },
  {
   "cell_type": "code",
   "execution_count": 4,
   "metadata": {
    "collapsed": true
   },
   "outputs": [],
   "source": [
    "class Citizen:\n",
    "    '''Defines a citizen in CrimeWorld.\n",
    "    All citizens share the following properties:\n",
    "\n",
    "    wealth: How much $$$ the citizen owns\n",
    "    isPopo: Boolean defining each citizen as a police officer or not'''\n",
    "    def __init__(self, wealth):\n",
    "        self.wealth = wealth\n",
    "        self.isPopo = random.choice([True, False])\n",
    "\n",
    "    def step():\n",
    "        wealth += 5\n",
    "\n",
    "    def getRobbed():\n",
    "        wealth -= 1"
   ]
  },
  {
   "cell_type": "markdown",
   "metadata": {},
   "source": [
    "The idea behind routine activity theory (RAT) is that if the frequency of convergence between offenders, guardians, and targets increases, crime rates may increase even if the absolute number of motivated offenders remains constant. In other words, as individuals spend more time away from home, crime rates increase."
   ]
  },
  {
   "cell_type": "markdown",
   "metadata": {},
   "source": [
    "A variety of factors affect an offender's decision to commit a crime. Consider a bunch of agents at a single node; some might be police, some might be guardians, and some might be offenders trying to find a guardian to make into a target. The first factor the offenders must consider is whether there are police at the node. The presence of a police officer is an absolute dealbreaker; no offender will commit a crime if they know someone is nearby who can catch them and stick them in jail for it."
   ]
  },
  {
   "cell_type": "markdown",
   "metadata": {},
   "source": [
    "If there are no police officers, however, the second factor the offenders must consider is the guardianship of other agents present; we'll call this variable `G`."
   ]
  },
  {
   "cell_type": "markdown",
   "metadata": {},
   "source": [
    "`G = (N`<sub>agents</sub>` - 2) + P`"
   ]
  },
  {
   "cell_type": "markdown",
   "metadata": {},
   "source": [
    "`G` depends on two other variables. `N`<sub>agents</sub> is the total number of agents present at a given node, and we subtract 2 to account for the offender and their potential target. `P` is a randomly selected number between -2 and 2 that represents the offender's perception of the capability of the guardians who are present.\n",
    "\n",
    "If `G < 1`, the offender determines that there are not capable guardians present, so they should commit the crime.\n",
    "\n",
    "If `G == 1`, the offender isn't sure if there are capable guardians present, so they make a random decision to commit the crime.\n",
    "\n",
    "And finally, if `G > 1`, the offender determines that there are capable guardians present and they should not commit the crime."
   ]
  },
  {
   "cell_type": "markdown",
   "metadata": {},
   "source": [
    "Now, let's assume `G <= 1` and the offender has decided to commit the crime. Which agent should the offender offend? The offender must consider the suitability of the potential targets in the node, a variable we'll call `S`."
   ]
  },
  {
   "cell_type": "markdown",
   "metadata": {},
   "source": [
    "`S = (W`<sub>target</sub>` - W`<sub>offender</sub>`) + P`"
   ]
  },
  {
   "cell_type": "markdown",
   "metadata": {},
   "source": [
    "`S` depends on several other variables. `W`<sub>target</sub> is the wealth of the potential target and `W`<sub>offender</sub> is the wealth of the offender. And like our equation for `G`, `P` represents a randomly selected number, this time between -1 and 1, which represents the offender's perception of the wealth of the target.\n",
    "\n",
    "If `S >= 0`, the offender determines that the target is suitably wealthy and robs them.\n",
    "\n",
    "If `S < 0`, the offender determines that the target is not suitably wealthy, so they move on to the next potential target in the node."
   ]
  },
  {
   "cell_type": "markdown",
   "metadata": {},
   "source": [
    "We define the equations for finding `G` and `S` as `decideToOffend` and `pickChump`, respectively, in the `Criminal` class, as seen below."
   ]
  },
  {
   "cell_type": "code",
   "execution_count": 5,
   "metadata": {
    "collapsed": false
   },
   "outputs": [],
   "source": [
    "class Criminal(Citizen):\n",
    "    \"\"\"\n",
    "    t: Time away from home\n",
    "    \"\"\"\n",
    "    def __init__(self, wealth, t):\n",
    "        Citizen.__init__(self, wealth)\n",
    "        self.t = t\n",
    "\n",
    "    def step():\n",
    "        t += 1\n",
    "\n",
    "    def goHome():\n",
    "        t = 0\n",
    "\n",
    "    def decideToOffend(agents):\n",
    "        for agent in agents:\n",
    "            if agent.isPopo:\n",
    "                return False\n",
    "\n",
    "        capability = random.randint(-2, 2)\n",
    "        G = len(agents) - 2 + capability\n",
    "\n",
    "        if G > 1:\n",
    "            return False\n",
    "        elif G == 1:\n",
    "            p = random.choice([True, False])\n",
    "            return p\n",
    "\n",
    "        return True\n",
    "\n",
    "    def pickChump(agents):\n",
    "        def compare(a, b):\n",
    "            if a.wealth > b.wealth:\n",
    "                return 1\n",
    "            elif b.wealth > a.wealth:\n",
    "                return -1\n",
    "            else:\n",
    "                return 0\n",
    "\n",
    "        return max(agents, key=compare)"
   ]
  },
  {
   "cell_type": "code",
   "execution_count": null,
   "metadata": {
    "collapsed": true
   },
   "outputs": [],
   "source": []
  }
 ],
 "metadata": {
  "anaconda-cloud": {},
  "kernelspec": {
   "display_name": "Python [conda root]",
   "language": "python",
   "name": "conda-root-py"
  },
  "language_info": {
   "codemirror_mode": {
    "name": "ipython",
    "version": 3
   },
   "file_extension": ".py",
   "mimetype": "text/x-python",
   "name": "python",
   "nbconvert_exporter": "python",
   "pygments_lexer": "ipython3",
   "version": "3.5.2"
  }
 },
 "nbformat": 4,
 "nbformat_minor": 1
}
